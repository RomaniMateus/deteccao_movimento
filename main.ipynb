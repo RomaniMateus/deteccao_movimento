{
 "cells": [
  {
   "cell_type": "code",
   "execution_count": 1,
   "id": "initial_id",
   "metadata": {
    "collapsed": true,
    "ExecuteTime": {
     "end_time": "2024-04-10T15:32:57.989604Z",
     "start_time": "2024-04-10T15:32:57.693166Z"
    }
   },
   "outputs": [],
   "source": [
    "import cv2\n",
    "import numpy as np"
   ]
  },
  {
   "cell_type": "code",
   "outputs": [],
   "source": [
    "VIDEO = \"./video.mp4\"\n",
    "\n",
    "cap = cv2.VideoCapture(VIDEO)\n",
    "_, frame = cap.read()\n",
    "\n",
    "frameIds = cap.get(cv2.CAP_PROP_FRAME_COUNT) * np.random.uniform(size=72)"
   ],
   "metadata": {
    "collapsed": false
   },
   "id": "dfbb5c33b09cff4a"
  },
  {
   "cell_type": "code",
   "outputs": [],
   "source": [
    "frames = []\n",
    "for fid in frameIds:\n",
    "    cap.set(cv2.CAP_PROP_POS_FRAMES, fid)\n",
    "    ret, frame = cap.read()\n",
    "    frames.append(frame)\n",
    "    \n",
    "medianFrame = np.median(frames, axis=0).astype(dtype=np.uint8)\n",
    "print(medianFrame)"
   ],
   "metadata": {
    "collapsed": false
   },
   "id": "dba4bd5b778bd5c9"
  },
  {
   "cell_type": "code",
   "outputs": [],
   "source": [
    "cv2.imshow(\"medianFrame\", medianFrame)"
   ],
   "metadata": {
    "collapsed": false
   },
   "id": "a074fa45dd2f6d3"
  }
 ],
 "metadata": {
  "kernelspec": {
   "display_name": "Python 3",
   "language": "python",
   "name": "python3"
  },
  "language_info": {
   "codemirror_mode": {
    "name": "ipython",
    "version": 2
   },
   "file_extension": ".py",
   "mimetype": "text/x-python",
   "name": "python",
   "nbconvert_exporter": "python",
   "pygments_lexer": "ipython2",
   "version": "2.7.6"
  }
 },
 "nbformat": 4,
 "nbformat_minor": 5
}
